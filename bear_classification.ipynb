import os
import io
import pickle
import gdown
from PIL import Image
import ipywidgets as widgets
from IPython.display import display

os.makedirs("models", exist_ok=True)
# ─── cell 1 ───
import os
if not os.path.exists("models/my_model.pkl"):
    import gdown
    gdown.download(
        "https://drive.google.com/uc?id=1rM5qwk5716zOzR2oWUMcKtbCLMECDDYe",
        "models/my_model.pkl",
        quiet=True
    )
#load the model
with open("models/my_model.pkl","rb") as f:
    model = pickle.load(f)



def classify_image(change):
    # grab the first (and only) uploaded file’s bytes
    uploaded_bytes = next(iter(change['new'].values()))['content']
    # convert bytes → PIL image (or however your model expects)
    img = Image.open(io.BytesIO(uploaded_bytes))
    pred = model.predict(img)
    print("Predicted:", pred)

uploader = widgets.FileUpload(accept='image/*', multiple=False)
uploader.observe(classify_image, names='value')
display(uploader)
