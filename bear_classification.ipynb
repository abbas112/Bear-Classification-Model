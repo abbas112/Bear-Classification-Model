# ─── Cell 1: setup & load ───

import os, io, gdown
from fastai.vision.all import load_learner
from PIL import Image
import ipywidgets as widgets
from IPython.display import display

# ensure models/ exists
os.makedirs("models", exist_ok=True)

# download the FastAI-exported pickle if missing
if not os.path.exists("models/my_model.pkl"):
    gdown.download(
        "https://drive.google.com/uc?export=download&id=1rM5qwk5716zOzR2oWUMcKtbCLMECDDYe",
        "models/my_model.pkl",
        quiet=True
    )

# load into a Learner
learn = load_learner("models/my_model.pkl")


# ─── Cell 2: upload widget & predict ───

def classify_image(change):
    # grab the uploaded bytes
    content = next(iter(change['new'].values()))['content']
    img = Image.open(io.BytesIO(content))
    # predict with FastAI model
    pred,_,probs = learn.predict(img)
    print(f"Prediction: {pred}; probs: {probs}")

uploader = widgets.FileUpload(accept='image/*', multiple=False)
uploader.observe(classify_image, names='value')
display(uploader)


