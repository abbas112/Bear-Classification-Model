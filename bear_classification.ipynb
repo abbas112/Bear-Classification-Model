{
  "nbformat": 4,
  "nbformat_minor": 0,
  "metadata": {
    "colab": {
      "provenance": [],
      "authorship_tag": "ABX9TyNadxqTmWS1jjLDJk5V0HsP"
    },
    "kernelspec": {
      "name": "python3",
      "display_name": "Python 3"
    },
    "language_info": {
      "name": "python"
    }
  },
  "cells": [
    {
      "cell_type": "code",
      "source": [
        "!pip install --quiet --upgrade \"numpy<2\"\n",
        "import importlib, torch\n",
        "importlib.reload(torch)     # re-imports torch now that NumPy 1.x is present"
      ],
      "metadata": {
        "id": "abZq-EttnirJ"
      },
      "execution_count": null,
      "outputs": []
    },
    {
      "cell_type": "code",
      "execution_count": null,
      "metadata": {
        "id": "htPd_nGFj6Ra"
      },
      "outputs": [],
      "source": [
        "# ---- ALWAYS import numpy BEFORE torch / fastai ----\n",
        "import numpy as np           # NumPy 1.x is now in the env\n",
        "from fastai.vision.all import load_learner, PILImage\n",
        "import io, ipywidgets as widgets\n",
        "from IPython.display import display\n",
        "\n",
        "# 1) load your FastAI learner\n",
        "learn = load_learner('model/export.pkl')\n",
        "\n",
        "# 2) build widgets\n",
        "uploader = widgets.FileUpload(accept='image/*', multiple=True)\n",
        "out      = widgets.Output()\n",
        "\n",
        "def on_upload(change):\n",
        "    out.clear_output(wait=True)\n",
        "    with out:\n",
        "        # handle both tuple (new ipywidgets) and dict (old)\n",
        "        files = change['new'] if isinstance(change['new'], (tuple, list)) else change['new'].values()\n",
        "        for info in files:\n",
        "            name, bts = info['name'], info['content']\n",
        "            img = PILImage.create(io.BytesIO(bts))          # FastAI handles RGB + dtype\n",
        "            pred, _, probs = learn.predict(img)\n",
        "            display(img.to_thumb(256,256))\n",
        "            print(f\"{name} → {pred};  probs = {probs.cpu().numpy().round(4)}\\n\")\n",
        "\n",
        "\n",
        "uploader.observe(on_upload, names='value')\n",
        "display(widgets.VBox([uploader, out]))"
      ]
    },
    {
      "cell_type": "code",
      "source": [],
      "metadata": {
        "id": "Zt3HvBDIkGdH"
      },
      "execution_count": null,
      "outputs": []
    }
  ]
}
